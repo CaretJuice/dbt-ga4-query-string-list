{
 "cells": [
  {
   "cell_type": "markdown",
   "metadata": {
    "id": "r3wYbyo0g4UR"
   },
   "source": [
    "# Using this notebook\n",
    "\n",
    "This notebook takes a spreadsheet with two columns, the page url and the count of page views, parses out the query parameters and saves them to a spreadsheet with information useful for determining whether to filter the query parameters in BigQuery.\n",
    "\n",
    "The easiest way to do this is to take a preliminary dbt-GA4 BQ setup and run the following query in BigQuery:\n",
    "\n",
    "```\n",
    "SELECT  \n",
    "  page_location as Page,\n",
    "  sum(page_views) as Pageviews\n",
    "FROM `my-warehouse.my_dataset.fct_ga4__pages` \n",
    "WHERE event_date_dt = date_sub(current_date, interval 1 day) \n",
    "group by Page\n",
    "```\n",
    "Save the results to Google Drive, open the results and copy the URL to the *Load spreadsheet* section below and then copy the sheet tab to the sheet variable just below the sheet URL.\n",
    "\n",
    "When you have those two variables set select Runtime > Run all and grant this notebook Google Drive permissions when prompted.\n",
    "\n",
    "A CSV file titled query_string_list.csv with your data will be created in the file browser of this notebook. "
   ]
  },
  {
   "cell_type": "markdown",
   "metadata": {
    "id": "oSzpCsbldnac"
   },
   "source": [
    "Connect to Google Drive"
   ]
  },
  {
   "cell_type": "code",
   "execution_count": null,
   "metadata": {
    "id": "HRBm-qXjc7SR"
   },
   "outputs": [],
   "source": [
    "from google.colab import auth\n",
    "auth.authenticate_user()\n",
    "\n",
    "import gspread\n",
    "from google.auth import default\n",
    "creds, _ = default()\n",
    "\n",
    "gc = gspread.authorize(creds)\n"
   ]
  },
  {
   "cell_type": "markdown",
   "metadata": {
    "id": "I9J6oB1vduMt"
   },
   "source": [
    "Load spreadsheet"
   ]
  },
  {
   "cell_type": "code",
   "execution_count": null,
   "metadata": {
    "id": "RjzX4FdudrQi"
   },
   "outputs": [],
   "source": [
    "import pandas as pd\n",
    "wb = gc.open_by_url('')\n",
    "sheet = wb.worksheet('')\n",
    "data = sheet.get_all_values()\n",
    "df = pd.DataFrame(data)\n",
    "df.columns = df.iloc[0]\n",
    "df = df.iloc[1:]\n",
    "df\n",
    "\n"
   ]
  },
  {
   "cell_type": "markdown",
   "metadata": {
    "id": "YVxO9bR5fxQv"
   },
   "source": [
    "Split Page into Path and Query String"
   ]
  },
  {
   "cell_type": "code",
   "execution_count": null,
   "metadata": {
    "id": "76mkiIZtrv2J"
   },
   "outputs": [],
   "source": [
    "df[\"qs\"] = df.Page.str.split('?', n=1).str.get(1)\n",
    "df = df.dropna(axis=0, how='any', subset=['qs'])\n",
    "df['qs'] = df['qs'].str.split(\"\\?|\\&\").apply(lambda x: list(filter(None, x)))\n",
    "#add index as column to join later\n",
    "df['ref'] = df.index\n",
    "df"
   ]
  },
  {
   "cell_type": "code",
   "execution_count": null,
   "metadata": {
    "id": "GO50kSrLSL4O"
   },
   "outputs": [],
   "source": [
    "#convert to dict with key equal to reference column\n",
    "qs = pd.Series(df.qs.values,index=df.ref).to_dict()\n",
    "\n",
    "\n",
    "print(len(qs))"
   ]
  },
  {
   "cell_type": "code",
   "execution_count": null,
   "metadata": {
    "id": "oOF97jrTVlgr"
   },
   "outputs": [],
   "source": [
    "keys = [] #store unique keys\n",
    "ikv = [] # index, key, value\n",
    "\n",
    "\n",
    "#for l in qs:\n",
    "#  for i in l:\n",
    "#    kv = i.split(\"=\", 1)\n",
    "#    if len(kv) == 2:\n",
    "#      ikv.append([pos,kv[0],kv[1]])\n",
    "#      keys.append(kv[0])\n",
    "\n",
    "for items in qs.items():\n",
    "  for s in items[1]:\n",
    "    kv = s.split(\"=\", 1)\n",
    "    if len(kv) == 2:\n",
    "      ikv.append([items[0],kv[0],kv[1]])\n",
    "      keys.append(kv[0])\n",
    "\n",
    "keys = set(keys)\n",
    "#remove empty\n",
    "keys = [string for string in keys if string != \"\"]\n",
    "\n",
    "print(ikv[:10])\n",
    "print(len(keys))"
   ]
  },
  {
   "cell_type": "code",
   "execution_count": null,
   "metadata": {
    "id": "P51D0XzdXvtA"
   },
   "outputs": [],
   "source": [
    "#loop through keys and match to all rows where ikv == key\n",
    "\n",
    "#kcm = key, count, matches[]\n",
    "kcm = []\n",
    "for key in keys:\n",
    "  count = 0\n",
    "  index = 0\n",
    "  values = set()\n",
    "  for l in ikv:\n",
    "    if l[1] == key:\n",
    "      index = l[0]\n",
    "      count += 1\n",
    "      values.add( l[2] )\n",
    "  kcm.append( [index, key, count, values] )\n",
    "print(kcm[:10])"
   ]
  },
  {
   "cell_type": "code",
   "execution_count": null,
   "metadata": {
    "id": "OsCDtQuYlv2H"
   },
   "outputs": [],
   "source": [
    "# convert to dataframe and add a url sample that matches\n",
    "\n",
    "qs_map = pd.DataFrame(data=kcm, columns=['ref','key','count','sample_values'])\n",
    "qs_map = qs_map.merge( df, how='left', on=['ref'], )\n",
    "qs_map"
   ]
  },
  {
   "cell_type": "code",
   "execution_count": null,
   "metadata": {
    "id": "Y_TzLKPCQG6K"
   },
   "outputs": [],
   "source": [
    "qs_map.to_csv('query_string_list.csv')\n"
   ]
  },
  {
   "cell_type": "code",
   "execution_count": null,
   "metadata": {
    "id": "rSsDxNn2sO9S"
   },
   "outputs": [],
   "source": []
  }
 ],
 "metadata": {
  "colab": {
   "provenance": []
  },
  "kernelspec": {
   "display_name": "Python 3",
   "name": "python3"
  },
  "language_info": {
   "name": "python"
  }
 },
 "nbformat": 4,
 "nbformat_minor": 0
}
